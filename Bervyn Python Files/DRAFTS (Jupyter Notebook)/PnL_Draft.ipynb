{
 "cells": [
  {
   "cell_type": "code",
   "execution_count": null,
   "metadata": {},
   "outputs": [],
   "source": [
    "# df.loc[df.index > entry && df['signal'] == -1]"
   ]
  },
  {
   "cell_type": "code",
   "execution_count": null,
   "metadata": {},
   "outputs": [],
   "source": [
    " # Plot PnL\n",
    "\n",
    "                        entry_points = asset_df.loc[(asset_df['Long Trigger'] > 0) | (asset_df['Short Trigger'] < 0)].index\n",
    "                        '''\n",
    "                        If entry: find exit\n",
    "                        If exit: find entry\n",
    "                        '''\n",
    "\n",
    "                        total_pnl = 0\n",
    "                        \n",
    "                        for entry_point in entry_points:\n",
    "                        # for every entry point, it has to find the next exit point\n",
    "                        \n",
    "                                trigger_long = asset_df.loc[entry_point, 'Long Trigger']\n",
    "                                trigger_short = asset_df.loc[entry_point, 'Short Trigger']\n",
    "\n",
    "                                if (trigger_long > 0):\n",
    "                                        exit_point = asset_df.loc[(asset_df['Short Trigger'] < 0) & (asset_df.index > entry_point)]\n",
    "                                        # entry_point = None\n",
    "                                        # asset_df[asset + '_exit'] = np.where((asset_df['Short Trigger'] < 0) & (asset_df.index > entry_point), 'exit point - short', 'None')\n",
    "\n",
    "                                if (trigger_short < 0):\n",
    "                                        exit_point = asset_df.loc[(asset_df['Long Trigger'] > 0) & (asset_df.index > entry_point)]\n",
    "                                        # entry_point = None\n",
    "                                        # asset_df[asset + '_exit'] = np.where((asset_df['Long Trigger'] > 0) & (asset_df.index > entry_point), 'exit point - long', 'None')\n",
    "                                        \n",
    "                                # if there is no next contrasting point, i.e. empty, then skip to the last data point (conclusive time period)\n",
    "                                if len(exit_point) == 0:  \n",
    "                                        exit_point = asset_df.index[-1]\n",
    "                                \n",
    "                                # if not empty, use first found point\n",
    "                                else:\n",
    "                                        exit_point = exit_point.index[0]\n",
    "\n",
    "                                '''\n",
    "                                entry_price = asset_df.loc(entry point, price)\n",
    "                                exit_price = asset_df.loc(exit point, price)\n",
    "                                '''\n",
    "                                \n",
    "                                entry_price = asset_df.loc[entry_point, 'Adj Close']\n",
    "                                exit_price = asset_df.loc[exit_point, 'Adj Close']\n",
    "                                \n",
    "\n",
    "                                if trigger_long == 1:\n",
    "                                        pnl = 1 * (exit_price - entry_price)\n",
    "\n",
    "                                if trigger_short == -1:\n",
    "                                        pnl = -1 * (exit_price - entry_price)\n",
    "\n",
    "                                print(f'trade: entry: {entry_point} at {entry_price} - {exit_point} at {exit_price}, pnl: {pnl}')\n",
    "\n",
    "                        total_pnl = total_pnl + pnl\n",
    "\n",
    "                        ax[0].set_title(f'{asset} - Adj Close. mode: {mode}, pnl: {total_pnl}')"
   ]
  }
 ],
 "metadata": {
  "language_info": {
   "name": "python"
  },
  "orig_nbformat": 4
 },
 "nbformat": 4,
 "nbformat_minor": 2
}
