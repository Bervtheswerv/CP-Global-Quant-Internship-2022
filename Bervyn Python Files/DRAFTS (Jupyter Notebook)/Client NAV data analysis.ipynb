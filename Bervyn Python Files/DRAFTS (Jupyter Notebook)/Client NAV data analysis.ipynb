{
 "cells": [
  {
   "cell_type": "code",
   "execution_count": 1,
   "metadata": {},
   "outputs": [],
   "source": [
    "import pandas as pd\n",
    "import numpy as np\n",
    "import yfinance as yf\n",
    "import seaborn as sns\n",
    "import matplotlib.pyplot as plt\n",
    "import datetime\n",
    "import warnings\n",
    "warnings.filterwarnings('ignore')\n",
    "import os\n",
    "\n",
    "%matplotlib inline"
   ]
  },
  {
   "cell_type": "code",
   "execution_count": 3,
   "metadata": {},
   "outputs": [],
   "source": [
    "data = pd.read_excel('/Users/bervynwong/Desktop/Educational Documents/Trading & Financial Markets/Client Sub & Port Dec 2021.xlsx', sheet_name='Combined Clients', engine='openpyxl').fillna(0).set_index('Date')\n",
    "\n",
    "client_keys = {'SAS': '2015-04-01', \n",
    "               'BAK': '2015-06-01', \n",
    "               'WEE': '2017-04-01', \n",
    "               'WAL': '2017-04-01', \n",
    "               'NKP': '2018-01-01', \n",
    "               'HTK': '2018-07-01',\n",
    "               'JNK': '2021-03-01', \n",
    "               'PHV': '2021-04-01', \n",
    "               'NWC': '2021-06-01'\n",
    "               }\n",
    "\n",
    "for client in data:\n",
    "    data[f'{client}_ROI'] = ((data[client][-1] / data.loc[client_keys[client], client]) - 1) * 100\n",
    "# data['SAS_ROI'] = ((data['SAS'][-1] / data.loc['2015-04-01', 'SAS']) - 1) * 100\n",
    "\n",
    "data.to_excel('/Users/bervynwong/Desktop/Educational Documents/Trading & Financial Markets/Client Sub & Port Dec 2021.xlsx', sheet_name='Combined Clients', index=False)"
   ]
  },
  {
   "cell_type": "markdown",
   "metadata": {},
   "source": [
    "#### Client information - sorting of variables"
   ]
  },
  {
   "cell_type": "code",
   "execution_count": 69,
   "metadata": {},
   "outputs": [
    {
     "data": {
      "text/html": [
       "<div>\n",
       "<style scoped>\n",
       "    .dataframe tbody tr th:only-of-type {\n",
       "        vertical-align: middle;\n",
       "    }\n",
       "\n",
       "    .dataframe tbody tr th {\n",
       "        vertical-align: top;\n",
       "    }\n",
       "\n",
       "    .dataframe thead th {\n",
       "        text-align: right;\n",
       "    }\n",
       "</style>\n",
       "<table border=\"1\" class=\"dataframe\">\n",
       "  <thead>\n",
       "    <tr style=\"text-align: right;\">\n",
       "      <th></th>\n",
       "      <th>Date</th>\n",
       "      <th>NAV</th>\n",
       "      <th>Cum Ret</th>\n",
       "      <th>Mth Ret</th>\n",
       "      <th>Roll Ret</th>\n",
       "      <th>Max DD</th>\n",
       "      <th>Max Ret</th>\n",
       "      <th>Excess Ret</th>\n",
       "      <th>Neg Exc Ret</th>\n",
       "    </tr>\n",
       "  </thead>\n",
       "  <tbody>\n",
       "    <tr>\n",
       "      <th>0</th>\n",
       "      <td>2013-08-01</td>\n",
       "      <td>93.87</td>\n",
       "      <td>0.0000</td>\n",
       "      <td>0.0000</td>\n",
       "      <td>NaN</td>\n",
       "      <td>0.0000</td>\n",
       "      <td>0.0000</td>\n",
       "      <td>NaN</td>\n",
       "      <td>NaN</td>\n",
       "    </tr>\n",
       "    <tr>\n",
       "      <th>1</th>\n",
       "      <td>2013-09-01</td>\n",
       "      <td>93.43</td>\n",
       "      <td>-0.0047</td>\n",
       "      <td>-0.0047</td>\n",
       "      <td>NaN</td>\n",
       "      <td>-0.0047</td>\n",
       "      <td>-0.0047</td>\n",
       "      <td>-0.0047</td>\n",
       "      <td>-0.0047</td>\n",
       "    </tr>\n",
       "    <tr>\n",
       "      <th>2</th>\n",
       "      <td>2013-10-01</td>\n",
       "      <td>93.10</td>\n",
       "      <td>-0.0082</td>\n",
       "      <td>-0.0035</td>\n",
       "      <td>NaN</td>\n",
       "      <td>-0.0082</td>\n",
       "      <td>-0.0035</td>\n",
       "      <td>-0.0035</td>\n",
       "      <td>-0.0035</td>\n",
       "    </tr>\n",
       "    <tr>\n",
       "      <th>3</th>\n",
       "      <td>2013-11-01</td>\n",
       "      <td>92.03</td>\n",
       "      <td>-0.0196</td>\n",
       "      <td>-0.0115</td>\n",
       "      <td>NaN</td>\n",
       "      <td>-0.0196</td>\n",
       "      <td>-0.0115</td>\n",
       "      <td>-0.0115</td>\n",
       "      <td>-0.0115</td>\n",
       "    </tr>\n",
       "    <tr>\n",
       "      <th>4</th>\n",
       "      <td>2013-12-01</td>\n",
       "      <td>91.89</td>\n",
       "      <td>-0.0211</td>\n",
       "      <td>-0.0015</td>\n",
       "      <td>NaN</td>\n",
       "      <td>-0.0211</td>\n",
       "      <td>-0.0015</td>\n",
       "      <td>-0.0015</td>\n",
       "      <td>-0.0015</td>\n",
       "    </tr>\n",
       "  </tbody>\n",
       "</table>\n",
       "</div>"
      ],
      "text/plain": [
       "        Date    NAV  Cum Ret  Mth Ret  Roll Ret  Max DD  Max Ret  Excess Ret  \\\n",
       "0 2013-08-01  93.87   0.0000   0.0000       NaN  0.0000   0.0000         NaN   \n",
       "1 2013-09-01  93.43  -0.0047  -0.0047       NaN -0.0047  -0.0047     -0.0047   \n",
       "2 2013-10-01  93.10  -0.0082  -0.0035       NaN -0.0082  -0.0035     -0.0035   \n",
       "3 2013-11-01  92.03  -0.0196  -0.0115       NaN -0.0196  -0.0115     -0.0115   \n",
       "4 2013-12-01  91.89  -0.0211  -0.0015       NaN -0.0211  -0.0015     -0.0015   \n",
       "\n",
       "   Neg Exc Ret  \n",
       "0          NaN  \n",
       "1      -0.0047  \n",
       "2      -0.0035  \n",
       "3      -0.0115  \n",
       "4      -0.0015  "
      ]
     },
     "execution_count": 69,
     "metadata": {},
     "output_type": "execute_result"
    }
   ],
   "source": [
    "data = pd.read_excel('/Users/bervynwong/Desktop/Educational Documents/Trading & Financial Markets/NAV Dec 2021.xlsx', sheet_name='NAV test')\n",
    "data.head()"
   ]
  },
  {
   "cell_type": "code",
   "execution_count": 72,
   "metadata": {},
   "outputs": [
    {
     "data": {
      "image/png": "[encoded data removed]",
      "text/plain": [
       "<Figure size 864x504 with 1 Axes>"
      ]
     },
     "metadata": {
      "needs_background": "light"
     },
     "output_type": "display_data"
    }
   ],
   "source": [
    "data['NAV'].plot(figsize=(12,7))\n",
    "plt.title('CPMSF NAV Dec 2021')\n",
    "plt.ylabel('Price($)')\n",
    "plt.grid()\n",
    "plt.show();"
   ]
  },
  {
   "cell_type": "code",
   "execution_count": null,
   "metadata": {},
   "outputs": [],
   "source": []
  }
 ],
 "metadata": {
  "interpreter": {
   "hash": "3b274335bd1bd838e48cca98d2fb6928a4c9dd59c2acc59ba65f69fcec412144"
  },
  "kernelspec": {
   "display_name": "Python 3.8.8 ('base')",
   "language": "python",
   "name": "python3"
  },
  "language_info": {
   "codemirror_mode": {
    "name": "ipython",
    "version": 3
   },
   "file_extension": ".py",
   "mimetype": "text/x-python",
   "name": "python",
   "nbconvert_exporter": "python",
   "pygments_lexer": "ipython3",
   "version": "3.8.8"
  },
  "orig_nbformat": 4
 },
 "nbformat": 4,
 "nbformat_minor": 2
}
